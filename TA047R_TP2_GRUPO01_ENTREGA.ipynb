{
  "cells": [
    {
      "cell_type": "markdown",
      "metadata": {
        "id": "view-in-github",
        "colab_type": "text"
      },
      "source": [
        "<a href=\"https://colab.research.google.com/github/BeltranMal/TA047R-2C2024-GRUPO01/blob/main/TA047R_TP2_GRUPO01_ENTREGA.ipynb\" target=\"_parent\"><img src=\"https://colab.research.google.com/assets/colab-badge.svg\" alt=\"Open In Colab\"/></a>"
      ]
    },
    {
      "cell_type": "code",
      "execution_count": 88,
      "metadata": {
        "colab": {
          "base_uri": "https://localhost:8080/"
        },
        "collapsed": true,
        "id": "5fvFbD8yOAC0",
        "outputId": "194a9a42-7675-4bc0-88f0-f7bbfe624dbd"
      },
      "outputs": [
        {
          "output_type": "stream",
          "name": "stderr",
          "text": [
            "[nltk_data] Downloading package punkt to /root/nltk_data...\n",
            "[nltk_data]   Package punkt is already up-to-date!\n",
            "[nltk_data] Downloading package stopwords to /root/nltk_data...\n",
            "[nltk_data]   Package stopwords is already up-to-date!\n",
            "[nltk_data] Downloading package wordnet to /root/nltk_data...\n",
            "[nltk_data]   Package wordnet is already up-to-date!\n",
            "[nltk_data] Downloading package punkt to /root/nltk_data...\n",
            "[nltk_data]   Package punkt is already up-to-date!\n",
            "[nltk_data] Downloading package punkt_tab to /root/nltk_data...\n",
            "[nltk_data]   Package punkt_tab is already up-to-date!\n"
          ]
        },
        {
          "output_type": "stream",
          "name": "stdout",
          "text": [
            "Drive already mounted at /content/drive; to attempt to forcibly remount, call drive.mount(\"/content/drive\", force_remount=True).\n"
          ]
        }
      ],
      "source": [
        "import pandas as pd\n",
        "from google.colab import drive\n",
        "from sklearn.metrics import mean_squared_error\n",
        "import numpy as np\n",
        "from sklearn.model_selection import GridSearchCV, RandomizedSearchCV\n",
        "\n",
        "from sklearn.model_selection import train_test_split\n",
        "import re\n",
        "import nltk\n",
        "from nltk.corpus import stopwords\n",
        "from nltk.tokenize import word_tokenize\n",
        "from nltk.stem import WordNetLemmatizer\n",
        "from sklearn.feature_extraction.text import TfidfVectorizer\n",
        "from sklearn.feature_selection import SelectKBest , f_regression\n",
        "import matplotlib.pyplot as plt\n",
        "\n",
        "nltk.download('punkt')\n",
        "nltk.download('stopwords')\n",
        "nltk.download('wordnet')\n",
        "nltk.download('punkt')\n",
        "nltk.download('punkt_tab')\n",
        "drive.mount('/content/drive')\n"
      ]
    },
    {
      "cell_type": "code",
      "execution_count": 89,
      "metadata": {
        "id": "ohR4k-SBO49u"
      },
      "outputs": [],
      "source": [
        "train = pd.read_csv('/content/drive/MyDrive/TP2: TA047R-2C2024-GRUPO01/train.csv')\n",
        "test = pd.read_csv('/content/drive/MyDrive/TP2: TA047R-2C2024-GRUPO01/test.csv')"
      ]
    },
    {
      "cell_type": "code",
      "execution_count": 90,
      "metadata": {
        "colab": {
          "base_uri": "https://localhost:8080/",
          "height": 81
        },
        "collapsed": true,
        "id": "GugxDUdVGPm8",
        "outputId": "7e10156d-c147-429d-f4fb-e28822bad769"
      },
      "outputs": [
        {
          "output_type": "execute_result",
          "data": {
            "text/plain": [
              "     id                                              title  \\\n",
              "0  3433  Add Run > Tizen Emulator menu action in App an...   \n",
              "\n",
              "                                         description   project  \n",
              "0  The action will create the launch shortcut for...  project8  "
            ],
            "text/html": [
              "\n",
              "  <div id=\"df-19f3e09e-0427-4007-8d20-b656b929c448\" class=\"colab-df-container\">\n",
              "    <div>\n",
              "<style scoped>\n",
              "    .dataframe tbody tr th:only-of-type {\n",
              "        vertical-align: middle;\n",
              "    }\n",
              "\n",
              "    .dataframe tbody tr th {\n",
              "        vertical-align: top;\n",
              "    }\n",
              "\n",
              "    .dataframe thead th {\n",
              "        text-align: right;\n",
              "    }\n",
              "</style>\n",
              "<table border=\"1\" class=\"dataframe\">\n",
              "  <thead>\n",
              "    <tr style=\"text-align: right;\">\n",
              "      <th></th>\n",
              "      <th>id</th>\n",
              "      <th>title</th>\n",
              "      <th>description</th>\n",
              "      <th>project</th>\n",
              "    </tr>\n",
              "  </thead>\n",
              "  <tbody>\n",
              "    <tr>\n",
              "      <th>0</th>\n",
              "      <td>3433</td>\n",
              "      <td>Add Run &gt; Tizen Emulator menu action in App an...</td>\n",
              "      <td>The action will create the launch shortcut for...</td>\n",
              "      <td>project8</td>\n",
              "    </tr>\n",
              "  </tbody>\n",
              "</table>\n",
              "</div>\n",
              "    <div class=\"colab-df-buttons\">\n",
              "\n",
              "  <div class=\"colab-df-container\">\n",
              "    <button class=\"colab-df-convert\" onclick=\"convertToInteractive('df-19f3e09e-0427-4007-8d20-b656b929c448')\"\n",
              "            title=\"Convert this dataframe to an interactive table.\"\n",
              "            style=\"display:none;\">\n",
              "\n",
              "  <svg xmlns=\"http://www.w3.org/2000/svg\" height=\"24px\" viewBox=\"0 -960 960 960\">\n",
              "    <path d=\"M120-120v-720h720v720H120Zm60-500h600v-160H180v160Zm220 220h160v-160H400v160Zm0 220h160v-160H400v160ZM180-400h160v-160H180v160Zm440 0h160v-160H620v160ZM180-180h160v-160H180v160Zm440 0h160v-160H620v160Z\"/>\n",
              "  </svg>\n",
              "    </button>\n",
              "\n",
              "  <style>\n",
              "    .colab-df-container {\n",
              "      display:flex;\n",
              "      gap: 12px;\n",
              "    }\n",
              "\n",
              "    .colab-df-convert {\n",
              "      background-color: #E8F0FE;\n",
              "      border: none;\n",
              "      border-radius: 50%;\n",
              "      cursor: pointer;\n",
              "      display: none;\n",
              "      fill: #1967D2;\n",
              "      height: 32px;\n",
              "      padding: 0 0 0 0;\n",
              "      width: 32px;\n",
              "    }\n",
              "\n",
              "    .colab-df-convert:hover {\n",
              "      background-color: #E2EBFA;\n",
              "      box-shadow: 0px 1px 2px rgba(60, 64, 67, 0.3), 0px 1px 3px 1px rgba(60, 64, 67, 0.15);\n",
              "      fill: #174EA6;\n",
              "    }\n",
              "\n",
              "    .colab-df-buttons div {\n",
              "      margin-bottom: 4px;\n",
              "    }\n",
              "\n",
              "    [theme=dark] .colab-df-convert {\n",
              "      background-color: #3B4455;\n",
              "      fill: #D2E3FC;\n",
              "    }\n",
              "\n",
              "    [theme=dark] .colab-df-convert:hover {\n",
              "      background-color: #434B5C;\n",
              "      box-shadow: 0px 1px 3px 1px rgba(0, 0, 0, 0.15);\n",
              "      filter: drop-shadow(0px 1px 2px rgba(0, 0, 0, 0.3));\n",
              "      fill: #FFFFFF;\n",
              "    }\n",
              "  </style>\n",
              "\n",
              "    <script>\n",
              "      const buttonEl =\n",
              "        document.querySelector('#df-19f3e09e-0427-4007-8d20-b656b929c448 button.colab-df-convert');\n",
              "      buttonEl.style.display =\n",
              "        google.colab.kernel.accessAllowed ? 'block' : 'none';\n",
              "\n",
              "      async function convertToInteractive(key) {\n",
              "        const element = document.querySelector('#df-19f3e09e-0427-4007-8d20-b656b929c448');\n",
              "        const dataTable =\n",
              "          await google.colab.kernel.invokeFunction('convertToInteractive',\n",
              "                                                    [key], {});\n",
              "        if (!dataTable) return;\n",
              "\n",
              "        const docLinkHtml = 'Like what you see? Visit the ' +\n",
              "          '<a target=\"_blank\" href=https://colab.research.google.com/notebooks/data_table.ipynb>data table notebook</a>'\n",
              "          + ' to learn more about interactive tables.';\n",
              "        element.innerHTML = '';\n",
              "        dataTable['output_type'] = 'display_data';\n",
              "        await google.colab.output.renderOutput(dataTable, element);\n",
              "        const docLink = document.createElement('div');\n",
              "        docLink.innerHTML = docLinkHtml;\n",
              "        element.appendChild(docLink);\n",
              "      }\n",
              "    </script>\n",
              "  </div>\n",
              "\n",
              "\n",
              "    </div>\n",
              "  </div>\n"
            ],
            "application/vnd.google.colaboratory.intrinsic+json": {
              "type": "dataframe",
              "variable_name": "test",
              "summary": "{\n  \"name\": \"test\",\n  \"rows\": 1975,\n  \"fields\": [\n    {\n      \"column\": \"id\",\n      \"properties\": {\n        \"dtype\": \"number\",\n        \"std\": 2841,\n        \"min\": 0,\n        \"max\": 9873,\n        \"num_unique_values\": 1975,\n        \"samples\": [\n          4165,\n          3411,\n          3082\n        ],\n        \"semantic_type\": \"\",\n        \"description\": \"\"\n      }\n    },\n    {\n      \"column\": \"title\",\n      \"properties\": {\n        \"dtype\": \"string\",\n        \"num_unique_values\": 1974,\n        \"samples\": [\n          \"Add configurable HADOOP_USER_NAME support\",\n          \"PropertySource leakage between runtime and modules\",\n          \"The default size of modules table in tiapp is reduced\"\n        ],\n        \"semantic_type\": \"\",\n        \"description\": \"\"\n      }\n    },\n    {\n      \"column\": \"description\",\n      \"properties\": {\n        \"dtype\": \"string\",\n        \"num_unique_values\": 1969,\n        \"samples\": [\n          \"relevant to examples:  examples\\\\talend\\\\camel\\\\jaxrs-jms-http\\\\  examples\\\\talend\\\\camel\\\\jaxws-jms\\\\    Try to start the broker in container:  features:install activemq-spring  activemq:create-broker    Port 61616 do not established, no errors in log\",\n          \"The jobs aren't spread evenly across available container nodes as they are created/deployed. I had 3 nodes but only one has the job modules.    [zk: localhost:2181(CONNECTED) 56] ls /xd/deployments/modules/621230e0-a089-4fbe-afc8-611ae527fcbc  [myjob9.job.jdbchdfs-0, myjob5.job.jdbchdfs-0, myjob8.job.jdbchdfs-0, myjob4.job.jdbchdfs-0, myjob6.job.jdbchdfs-0, myjob7.job.jdbchdfs-0]  [zk: localhost:2181(CONNECTED) 57] ls /xd/deployments/modules/6969579c-0cf4-4cc1-8e21-e01d73a70965  []  [zk: localhost:2181(CONNECTED) 58] ls /xd/deployments/modules/d0667cd1-a57a-4279-b7fb-dd63e4dd40d4  []    \",\n          \"This update is to modify app-config, SecurityUserBean, and security-users.xsd, as appropriate to support the inclusion of ACL 'groups' during instance initialization.\"\n        ],\n        \"semantic_type\": \"\",\n        \"description\": \"\"\n      }\n    },\n    {\n      \"column\": \"project\",\n      \"properties\": {\n        \"dtype\": \"category\",\n        \"num_unique_values\": 8,\n        \"samples\": [\n          \"project2\",\n          \"project3\",\n          \"project8\"\n        ],\n        \"semantic_type\": \"\",\n        \"description\": \"\"\n      }\n    }\n  ]\n}"
            }
          },
          "metadata": {},
          "execution_count": 90
        }
      ],
      "source": [
        "test.head(1)"
      ]
    },
    {
      "cell_type": "code",
      "execution_count": 91,
      "metadata": {
        "colab": {
          "base_uri": "https://localhost:8080/",
          "height": 81
        },
        "id": "EqljkaHbUs7d",
        "outputId": "76e55d13-baf1-46b8-c7c5-9c8844e2dfba"
      },
      "outputs": [
        {
          "output_type": "execute_result",
          "data": {
            "text/plain": [
              "     id                                              title  \\\n",
              "0  5660  Error enabling Appcelerator services during ap...   \n",
              "\n",
              "                                         description   project  storypoint  \n",
              "0  When creating the default app, I encountered t...  project8           3  "
            ],
            "text/html": [
              "\n",
              "  <div id=\"df-52424c78-ff45-43ee-af96-599e6dcdafbd\" class=\"colab-df-container\">\n",
              "    <div>\n",
              "<style scoped>\n",
              "    .dataframe tbody tr th:only-of-type {\n",
              "        vertical-align: middle;\n",
              "    }\n",
              "\n",
              "    .dataframe tbody tr th {\n",
              "        vertical-align: top;\n",
              "    }\n",
              "\n",
              "    .dataframe thead th {\n",
              "        text-align: right;\n",
              "    }\n",
              "</style>\n",
              "<table border=\"1\" class=\"dataframe\">\n",
              "  <thead>\n",
              "    <tr style=\"text-align: right;\">\n",
              "      <th></th>\n",
              "      <th>id</th>\n",
              "      <th>title</th>\n",
              "      <th>description</th>\n",
              "      <th>project</th>\n",
              "      <th>storypoint</th>\n",
              "    </tr>\n",
              "  </thead>\n",
              "  <tbody>\n",
              "    <tr>\n",
              "      <th>0</th>\n",
              "      <td>5660</td>\n",
              "      <td>Error enabling Appcelerator services during ap...</td>\n",
              "      <td>When creating the default app, I encountered t...</td>\n",
              "      <td>project8</td>\n",
              "      <td>3</td>\n",
              "    </tr>\n",
              "  </tbody>\n",
              "</table>\n",
              "</div>\n",
              "    <div class=\"colab-df-buttons\">\n",
              "\n",
              "  <div class=\"colab-df-container\">\n",
              "    <button class=\"colab-df-convert\" onclick=\"convertToInteractive('df-52424c78-ff45-43ee-af96-599e6dcdafbd')\"\n",
              "            title=\"Convert this dataframe to an interactive table.\"\n",
              "            style=\"display:none;\">\n",
              "\n",
              "  <svg xmlns=\"http://www.w3.org/2000/svg\" height=\"24px\" viewBox=\"0 -960 960 960\">\n",
              "    <path d=\"M120-120v-720h720v720H120Zm60-500h600v-160H180v160Zm220 220h160v-160H400v160Zm0 220h160v-160H400v160ZM180-400h160v-160H180v160Zm440 0h160v-160H620v160ZM180-180h160v-160H180v160Zm440 0h160v-160H620v160Z\"/>\n",
              "  </svg>\n",
              "    </button>\n",
              "\n",
              "  <style>\n",
              "    .colab-df-container {\n",
              "      display:flex;\n",
              "      gap: 12px;\n",
              "    }\n",
              "\n",
              "    .colab-df-convert {\n",
              "      background-color: #E8F0FE;\n",
              "      border: none;\n",
              "      border-radius: 50%;\n",
              "      cursor: pointer;\n",
              "      display: none;\n",
              "      fill: #1967D2;\n",
              "      height: 32px;\n",
              "      padding: 0 0 0 0;\n",
              "      width: 32px;\n",
              "    }\n",
              "\n",
              "    .colab-df-convert:hover {\n",
              "      background-color: #E2EBFA;\n",
              "      box-shadow: 0px 1px 2px rgba(60, 64, 67, 0.3), 0px 1px 3px 1px rgba(60, 64, 67, 0.15);\n",
              "      fill: #174EA6;\n",
              "    }\n",
              "\n",
              "    .colab-df-buttons div {\n",
              "      margin-bottom: 4px;\n",
              "    }\n",
              "\n",
              "    [theme=dark] .colab-df-convert {\n",
              "      background-color: #3B4455;\n",
              "      fill: #D2E3FC;\n",
              "    }\n",
              "\n",
              "    [theme=dark] .colab-df-convert:hover {\n",
              "      background-color: #434B5C;\n",
              "      box-shadow: 0px 1px 3px 1px rgba(0, 0, 0, 0.15);\n",
              "      filter: drop-shadow(0px 1px 2px rgba(0, 0, 0, 0.3));\n",
              "      fill: #FFFFFF;\n",
              "    }\n",
              "  </style>\n",
              "\n",
              "    <script>\n",
              "      const buttonEl =\n",
              "        document.querySelector('#df-52424c78-ff45-43ee-af96-599e6dcdafbd button.colab-df-convert');\n",
              "      buttonEl.style.display =\n",
              "        google.colab.kernel.accessAllowed ? 'block' : 'none';\n",
              "\n",
              "      async function convertToInteractive(key) {\n",
              "        const element = document.querySelector('#df-52424c78-ff45-43ee-af96-599e6dcdafbd');\n",
              "        const dataTable =\n",
              "          await google.colab.kernel.invokeFunction('convertToInteractive',\n",
              "                                                    [key], {});\n",
              "        if (!dataTable) return;\n",
              "\n",
              "        const docLinkHtml = 'Like what you see? Visit the ' +\n",
              "          '<a target=\"_blank\" href=https://colab.research.google.com/notebooks/data_table.ipynb>data table notebook</a>'\n",
              "          + ' to learn more about interactive tables.';\n",
              "        element.innerHTML = '';\n",
              "        dataTable['output_type'] = 'display_data';\n",
              "        await google.colab.output.renderOutput(dataTable, element);\n",
              "        const docLink = document.createElement('div');\n",
              "        docLink.innerHTML = docLinkHtml;\n",
              "        element.appendChild(docLink);\n",
              "      }\n",
              "    </script>\n",
              "  </div>\n",
              "\n",
              "\n",
              "    </div>\n",
              "  </div>\n"
            ],
            "application/vnd.google.colaboratory.intrinsic+json": {
              "type": "dataframe",
              "summary": "{\n  \"name\": \"# Esta todo en ingles -> tiene caracteres especiales\",\n  \"rows\": 1,\n  \"fields\": [\n    {\n      \"column\": \"id\",\n      \"properties\": {\n        \"dtype\": \"number\",\n        \"std\": null,\n        \"min\": 5660,\n        \"max\": 5660,\n        \"num_unique_values\": 1,\n        \"samples\": [\n          5660\n        ],\n        \"semantic_type\": \"\",\n        \"description\": \"\"\n      }\n    },\n    {\n      \"column\": \"title\",\n      \"properties\": {\n        \"dtype\": \"string\",\n        \"num_unique_values\": 1,\n        \"samples\": [\n          \"Error enabling Appcelerator services during app creation\"\n        ],\n        \"semantic_type\": \"\",\n        \"description\": \"\"\n      }\n    },\n    {\n      \"column\": \"description\",\n      \"properties\": {\n        \"dtype\": \"string\",\n        \"num_unique_values\": 1,\n        \"samples\": [\n          \"When creating the default app, I encountered the error during enabling of appcelerator services. Please, see the attachment.    Note: I noticed Environment choice(screenshot), which is not working.\"\n        ],\n        \"semantic_type\": \"\",\n        \"description\": \"\"\n      }\n    },\n    {\n      \"column\": \"project\",\n      \"properties\": {\n        \"dtype\": \"string\",\n        \"num_unique_values\": 1,\n        \"samples\": [\n          \"project8\"\n        ],\n        \"semantic_type\": \"\",\n        \"description\": \"\"\n      }\n    },\n    {\n      \"column\": \"storypoint\",\n      \"properties\": {\n        \"dtype\": \"number\",\n        \"std\": null,\n        \"min\": 3,\n        \"max\": 3,\n        \"num_unique_values\": 1,\n        \"samples\": [\n          3\n        ],\n        \"semantic_type\": \"\",\n        \"description\": \"\"\n      }\n    }\n  ]\n}"
            }
          },
          "metadata": {},
          "execution_count": 91
        }
      ],
      "source": [
        "train.head(1)\n",
        "# Esta todo en ingles -> tiene caracteres especiales"
      ]
    },
    {
      "cell_type": "code",
      "execution_count": 92,
      "metadata": {
        "colab": {
          "base_uri": "https://localhost:8080/",
          "height": 241
        },
        "id": "HrJfDMTwVS-z",
        "outputId": "bf1a9726-f4d3-4aa9-8039-d0a770bdce8e"
      },
      "outputs": [
        {
          "output_type": "execute_result",
          "data": {
            "text/plain": [
              "id             True\n",
              "title          True\n",
              "description    True\n",
              "project        True\n",
              "storypoint     True\n",
              "dtype: bool"
            ],
            "text/html": [
              "<div>\n",
              "<style scoped>\n",
              "    .dataframe tbody tr th:only-of-type {\n",
              "        vertical-align: middle;\n",
              "    }\n",
              "\n",
              "    .dataframe tbody tr th {\n",
              "        vertical-align: top;\n",
              "    }\n",
              "\n",
              "    .dataframe thead th {\n",
              "        text-align: right;\n",
              "    }\n",
              "</style>\n",
              "<table border=\"1\" class=\"dataframe\">\n",
              "  <thead>\n",
              "    <tr style=\"text-align: right;\">\n",
              "      <th></th>\n",
              "      <th>0</th>\n",
              "    </tr>\n",
              "  </thead>\n",
              "  <tbody>\n",
              "    <tr>\n",
              "      <th>id</th>\n",
              "      <td>True</td>\n",
              "    </tr>\n",
              "    <tr>\n",
              "      <th>title</th>\n",
              "      <td>True</td>\n",
              "    </tr>\n",
              "    <tr>\n",
              "      <th>description</th>\n",
              "      <td>True</td>\n",
              "    </tr>\n",
              "    <tr>\n",
              "      <th>project</th>\n",
              "      <td>True</td>\n",
              "    </tr>\n",
              "    <tr>\n",
              "      <th>storypoint</th>\n",
              "      <td>True</td>\n",
              "    </tr>\n",
              "  </tbody>\n",
              "</table>\n",
              "</div><br><label><b>dtype:</b> bool</label>"
            ]
          },
          "metadata": {},
          "execution_count": 92
        }
      ],
      "source": [
        "train.isna().sum() == 0"
      ]
    },
    {
      "cell_type": "code",
      "execution_count": 93,
      "metadata": {
        "colab": {
          "base_uri": "https://localhost:8080/"
        },
        "id": "JfVbQcBKVLbm",
        "outputId": "a72417e4-a823-4f85-8aa6-8515f59fce0f"
      },
      "outputs": [
        {
          "output_type": "execute_result",
          "data": {
            "text/plain": [
              "0"
            ]
          },
          "metadata": {},
          "execution_count": 93
        }
      ],
      "source": [
        "train.duplicated().sum()"
      ]
    },
    {
      "cell_type": "markdown",
      "metadata": {
        "id": "W5uYsxsJcpaI"
      },
      "source": [
        "# Preprocesamiento"
      ]
    },
    {
      "cell_type": "markdown",
      "metadata": {
        "id": "wiBJaOL0X63O"
      },
      "source": [
        "habrá que realizar un preprocesamiento del texto para que este pueda ser analizado por los distintos modelos. Se utilizará el modelo de **bag of words**, **o cualquier otro** que permita convertir texto en vectores."
      ]
    },
    {
      "cell_type": "code",
      "execution_count": 94,
      "metadata": {
        "id": "eawGx8jXdWhQ"
      },
      "outputs": [],
      "source": [
        "train[\"userStory\"] = train[\"title\"] + \" \" + train[\"description\"]\n",
        "train[\"userStory\"] = train[\"userStory\"].astype(str)\n",
        "test[\"userStory\"] = test[\"title\"] + \" \" + test[\"description\"]\n",
        "test[\"userStory\"] = test[\"userStory\"].astype(str)\n",
        "def limpieza_texto(userStory):\n",
        "  userStory = userStory.map(lambda x:re.sub(r\"[^\\w\\s]\", \"\", x)) #elimina {} # etc\n",
        "  userStory = userStory.map(lambda x: x.lower()) #convierte todo a minusculas\n",
        "  userStory = userStory.map(lambda x: word_tokenize(x)) #convierte a tokens\n",
        "  return userStory\n",
        "\n",
        "train[\"userStory\"] = limpieza_texto(train[\"userStory\"])\n",
        "test[\"userStory\"] = limpieza_texto(test[\"userStory\"])"
      ]
    },
    {
      "cell_type": "code",
      "execution_count": 95,
      "metadata": {
        "id": "Y2nOvHolVeTQ"
      },
      "outputs": [],
      "source": [
        "stopWords = set(stopwords.words('english'))\n",
        "lemma = WordNetLemmatizer()\n",
        "def preprocesamiento(userStory):\n",
        "  userStoryFiltrado = []\n",
        "  for word in userStory:\n",
        "    if word not in stopWords:\n",
        "      word = lemma.lemmatize(word)\n",
        "      userStoryFiltrado.append(word)\n",
        "  return userStoryFiltrado\n",
        "\n",
        "train[\"userStory\"] = train[\"userStory\"].map(preprocesamiento)\n",
        "test[\"userStory\"] = test[\"userStory\"].map(preprocesamiento)"
      ]
    },
    {
      "cell_type": "code",
      "execution_count": 96,
      "metadata": {
        "id": "5IPM6oGQOJff"
      },
      "outputs": [],
      "source": [
        "train[\"userStory\"] = train[\"userStory\"].map(lambda x: \" \".join(x))\n",
        "test[\"userStory\"] = test[\"userStory\"].map(lambda x: \" \".join(x))"
      ]
    },
    {
      "cell_type": "code",
      "execution_count": 97,
      "metadata": {
        "colab": {
          "base_uri": "https://localhost:8080/",
          "height": 466
        },
        "id": "AcKwKOGX5Eb-",
        "outputId": "aa41304a-0b7b-465a-c437-15dbbb9a58af"
      },
      "outputs": [
        {
          "output_type": "execute_result",
          "data": {
            "text/plain": [
              "<Axes: xlabel='storypoint', ylabel='count'>"
            ]
          },
          "metadata": {},
          "execution_count": 97
        },
        {
          "output_type": "display_data",
          "data": {
            "text/plain": [
              "<Figure size 640x480 with 1 Axes>"
            ],
            "image/png": "[encoded data removed]"
          },
          "metadata": {}
        }
      ],
      "source": [
        "import seaborn as sns\n",
        "sns.countplot(x=train[\"storypoint\"], color=\"#F1948A\")"
      ]
    },
    {
      "cell_type": "code",
      "execution_count": 98,
      "metadata": {
        "id": "C6ssKoSHXr1g"
      },
      "outputs": [],
      "source": [
        "#TF-IDF\n",
        "vectorizer =  TfidfVectorizer()\n",
        "X_tf = vectorizer.fit_transform(train[\"userStory\"])\n",
        "test_tf = vectorizer.transform(test[\"userStory\"])\n",
        "y = train[\"storypoint\"]\n"
      ]
    },
    {
      "cell_type": "markdown",
      "metadata": {
        "id": "V5iJp4GodA7h"
      },
      "source": [
        "# Funcion: create_submission"
      ]
    },
    {
      "cell_type": "code",
      "execution_count": 99,
      "metadata": {
        "id": "5q_WLhGQoOn3"
      },
      "outputs": [],
      "source": [
        "def create_submission(modelo, testeo, id):\n",
        "    predictions = modelo.predict(testeo) # predicciones\n",
        "    submission_df = pd.DataFrame({\n",
        "        'id': id,\n",
        "        'storypoint': predictions\n",
        "    })\n",
        "    submission_df.to_csv(\"entrega.csv\", index=False)"
      ]
    },
    {
      "cell_type": "markdown",
      "metadata": {
        "id": "UkTvfF6zZCex"
      },
      "source": [
        "#Bayes Naive Gauus"
      ]
    },
    {
      "cell_type": "code",
      "execution_count": 100,
      "metadata": {
        "colab": {
          "base_uri": "https://localhost:8080/"
        },
        "id": "3wUPVMRNUGaQ",
        "outputId": "59013235-77d3-453f-eebc-c689defe4341"
      },
      "outputs": [
        {
          "output_type": "stream",
          "name": "stdout",
          "text": [
            "RMSE: 3.580184564933398\n"
          ]
        }
      ],
      "source": [
        "# Entrenamiento con Gaussian Naive Bayes\n",
        "from sklearn.naive_bayes import GaussianNB\n",
        "X_train_tf, X_test_tf, y_train_tf, y_test_tf = train_test_split(X_tf, y, test_size=0.2, random_state=42)\n",
        "modelo_bayes = GaussianNB()\n",
        "modelo_bayes.fit(X_train_tf.toarray(), y_train_tf)\n",
        "\n",
        "# Predicciones en el conjunto de prueba\n",
        "y_pred = modelo_bayes.predict(X_test_tf.toarray())\n",
        "\n",
        "# Calcular RMSE (Root Mean Squared Error)\n",
        "mse = mean_squared_error(y_test_tf, y_pred)\n",
        "rmse = np.sqrt(mse)\n",
        "\n",
        "print(f\"RMSE: {rmse}\")"
      ]
    },
    {
      "cell_type": "code",
      "execution_count": 101,
      "metadata": {
        "colab": {
          "base_uri": "https://localhost:8080/"
        },
        "id": "i6-VU2BAPgoH",
        "outputId": "0c27923b-0006-45e6-d1f4-2687de272d40"
      },
      "outputs": [
        {
          "output_type": "execute_result",
          "data": {
            "text/plain": [
              "{'priors': None, 'var_smoothing': 1e-09}"
            ]
          },
          "metadata": {},
          "execution_count": 101
        }
      ],
      "source": [
        "# Ver parametros del modelo\n",
        "modelo_bayes.get_params()"
      ]
    },
    {
      "cell_type": "code",
      "execution_count": 102,
      "metadata": {
        "colab": {
          "base_uri": "https://localhost:8080/"
        },
        "id": "nD2NmP5JVDv1",
        "outputId": "660f2035-04f1-4559-b0e0-add6e3f0f142"
      },
      "outputs": [
        {
          "output_type": "stream",
          "name": "stdout",
          "text": [
            "Fitting 5 folds for each of 3 candidates, totalling 15 fits\n"
          ]
        },
        {
          "output_type": "stream",
          "name": "stderr",
          "text": [
            "/usr/local/lib/python3.10/dist-packages/sklearn/model_selection/_split.py:776: UserWarning: The least populated class in y has only 1 members, which is less than n_splits=5.\n",
            "  warnings.warn(\n"
          ]
        },
        {
          "output_type": "stream",
          "name": "stdout",
          "text": [
            "Mejores hiperparámetros: {'var_smoothing': 0.0001}\n",
            "Mejor RMSE obtenido: -3.678421938763775\n",
            "RMSE en el conjunto de prueba con el mejor modelo: 3.5329372439402675\n"
          ]
        }
      ],
      "source": [
        "model_con_rs = GaussianNB()\n",
        "\n",
        "# Definir el espacio de búsqueda de hiperparámetros\n",
        "param_dist = {\n",
        "    'var_smoothing': [1e-09, 1e-06,1e-04]\n",
        "}\n",
        "\n",
        "#grid search\n",
        "grid_search = GridSearchCV(model_con_rs, param_grid=param_dist, cv=5, scoring='neg_root_mean_squared_error', verbose=True)\n",
        "grid_search.fit(X_train_tf.toarray(), y_train_tf)\n",
        "\n",
        "# Obtener los mejores hiperparámetros\n",
        "best_params = grid_search.best_params_\n",
        "print(\"Mejores hiperparámetros:\", best_params)\n",
        "print(\"Mejor RMSE obtenido:\", grid_search.best_score_)\n",
        "\n",
        "best_model = grid_search.best_estimator_\n",
        "\n",
        "# Realizar predicciones con el mejor modelo\n",
        "y_pred = best_model.predict(X_test_tf.toarray())\n",
        "\n",
        "# Calcular RMSE en el conjunto de prueba\n",
        "rmse_test = np.sqrt(mean_squared_error(y_test_tf, y_pred))\n",
        "\n",
        "print(f\"RMSE en el conjunto de prueba con el mejor modelo: {rmse_test}\")\n"
      ]
    },
    {
      "cell_type": "code",
      "execution_count": 103,
      "metadata": {
        "colab": {
          "base_uri": "https://localhost:8080/"
        },
        "id": "aUy6OdFEkplT",
        "outputId": "41d323cb-efb4-4ccf-c425-9629622dee2f"
      },
      "outputs": [
        {
          "output_type": "execute_result",
          "data": {
            "text/plain": [
              "{'priors': None, 'var_smoothing': 0.0001}"
            ]
          },
          "metadata": {},
          "execution_count": 103
        }
      ],
      "source": [
        "best_model.get_params()"
      ]
    },
    {
      "cell_type": "code",
      "execution_count": 104,
      "metadata": {
        "colab": {
          "base_uri": "https://localhost:8080/"
        },
        "id": "DmocnPSbkhzn",
        "outputId": "accd0587-8c70-4498-ffe9-b434bfd93d31"
      },
      "outputs": [
        {
          "output_type": "stream",
          "name": "stdout",
          "text": [
            "RMSE: 3.5329372439402675\n"
          ]
        }
      ],
      "source": [
        "modelo_bayes = GaussianNB(**best_model.get_params())\n",
        "modelo_bayes.fit(X_train_tf.toarray(), y_train_tf)\n",
        "\n",
        "# Predicciones en el conjunto de prueba\n",
        "y_pred = modelo_bayes.predict(X_test_tf.toarray())\n",
        "\n",
        "# Calcular RMSE (Root Mean Squared Error)\n",
        "mse = mean_squared_error(y_test_tf, y_pred)\n",
        "rmse = np.sqrt(mse)\n",
        "\n",
        "print(f\"RMSE: {rmse}\")"
      ]
    },
    {
      "cell_type": "code",
      "execution_count": 105,
      "metadata": {
        "colab": {
          "base_uri": "https://localhost:8080/"
        },
        "id": "3uOvorHqm0cQ",
        "outputId": "6eeedd35-360a-48af-f395-664ce5982de1"
      },
      "outputs": [
        {
          "output_type": "stream",
          "name": "stdout",
          "text": [
            "12.481645569620254\n"
          ]
        }
      ],
      "source": [
        "print(mean_squared_error(y_test_tf, y_pred))"
      ]
    },
    {
      "cell_type": "code",
      "execution_count": 106,
      "metadata": {
        "id": "ho0xEaKHRl5g"
      },
      "outputs": [],
      "source": [
        "create_submission(modelo_bayes, test_tf.toarray(), test[\"id\"])"
      ]
    },
    {
      "cell_type": "markdown",
      "metadata": {
        "id": "wBekPht0ZIoO"
      },
      "source": [
        "#XGBoost"
      ]
    },
    {
      "cell_type": "code",
      "execution_count": 108,
      "metadata": {
        "colab": {
          "base_uri": "https://localhost:8080/",
          "height": 564
        },
        "id": "B8_AWNpdRxqe",
        "outputId": "e3983e70-0283-407d-9fb7-8f1b5128df16"
      },
      "outputs": [
        {
          "output_type": "display_data",
          "data": {
            "text/plain": [
              "<Figure size 1000x600 with 1 Axes>"
            ],
            "image/png": "[encoded data removed]"
          },
          "metadata": {}
        }
      ],
      "source": [
        "from sklearn.model_selection import cross_val_score\n",
        "from xgboost import XGBRegressor as xgb\n",
        "\n",
        "feature_counts = [200, 300, 400, 500, 700, 2000, 3000,5000]\n",
        "\n",
        "results = []\n",
        "\n",
        "for k in feature_counts:\n",
        "\n",
        "    selector = SelectKBest(f_regression, k=k)\n",
        "    X_selected = selector.fit_transform(X_tf, y)\n",
        "    test_selected = selector.transform(test_tf)\n",
        "\n",
        "    model = xgb(eval_metric=\"rmse\")\n",
        "    scores = cross_val_score(model, X_selected, y, cv=5, scoring='neg_root_mean_squared_error')\n",
        "    mean_rmse = -scores.mean()\n",
        "    results.append((k, mean_rmse))\n",
        "\n",
        "results_df = pd.DataFrame(results, columns=['Num_Features', 'Mean_RMSE'])\n",
        "\n",
        "\n",
        "\n",
        "plt.figure(figsize=(10, 6))\n",
        "plt.plot(results_df['Num_Features'], results_df['Mean_RMSE'], marker='o')\n",
        "plt.title('Mean RMSE vs Number of Features')\n",
        "plt.xlabel('Number of Features')\n",
        "plt.ylabel('Mean RMSE')\n",
        "plt.grid()\n",
        "plt.show()"
      ]
    },
    {
      "cell_type": "code",
      "execution_count": 109,
      "metadata": {
        "id": "AE3UVKytK8av"
      },
      "outputs": [],
      "source": [
        "top2000 = SelectKBest(f_regression, k=2000)\n",
        "X_tf = top2000.fit_transform(X_tf, y)\n",
        "test_tf = top2000.transform(test_tf)"
      ]
    },
    {
      "cell_type": "code",
      "execution_count": 110,
      "metadata": {
        "colab": {
          "base_uri": "https://localhost:8080/"
        },
        "id": "iTUB_pofpPF6",
        "outputId": "e9eca056-551a-4472-9ce3-3598df743cbe"
      },
      "outputs": [
        {
          "output_type": "stream",
          "name": "stdout",
          "text": [
            "Fitting 5 folds for each of 16 candidates, totalling 80 fits\n",
            "{'learning_rate': 0.1, 'max_depth': 9, 'n_estimators': 300, 'subsample': 0.8}\n"
          ]
        }
      ],
      "source": [
        "X_train_tf, X_test_tf, y_train_tf, y_test_tf = train_test_split(X_tf, y, test_size=0.2, random_state=42)\n",
        "xg_reg = xgb(eval_metric=\"rmse\")\n",
        "\n",
        "param_grid = {\n",
        "    'n_estimators': [200,300],\n",
        "    'learning_rate': [0.5, 0.1],\n",
        "    'max_depth': [7, 9],\n",
        "    'subsample': [0.8, 1.0]\n",
        "}\n",
        "\n",
        "grid_search = GridSearchCV(estimator=xg_reg, param_grid=param_grid, cv=5, n_jobs=-1, scoring='neg_root_mean_squared_error',verbose=True)\n",
        "grid_search.fit(X_train_tf, y_train_tf)\n",
        "best_params = grid_search.best_params_\n",
        "print(best_params)"
      ]
    },
    {
      "cell_type": "code",
      "execution_count": 111,
      "metadata": {
        "colab": {
          "base_uri": "https://localhost:8080/"
        },
        "id": "kzMnCfHUu_ec",
        "outputId": "f58e97cc-31aa-4f9a-c4a2-874c3b039583"
      },
      "outputs": [
        {
          "output_type": "stream",
          "name": "stdout",
          "text": [
            "RMSE: 2.3707962396014364\n"
          ]
        }
      ],
      "source": [
        "#calcular RMSE\n",
        "xg_reg = xgb(**best_params,eval_metric=\"rmse\")\n",
        "xg_reg.fit(X_train_tf, y_train_tf)\n",
        "y_pred = xg_reg.predict(X_test_tf)\n",
        "rmse_xgb = np.sqrt(mean_squared_error(y_test_tf, y_pred))\n",
        "print(\"RMSE:\", rmse_xgb)"
      ]
    },
    {
      "cell_type": "code",
      "execution_count": 112,
      "metadata": {
        "colab": {
          "base_uri": "https://localhost:8080/"
        },
        "id": "At2_Om-JavSY",
        "outputId": "6dc35af3-737a-4b59-a88f-3e808740159e"
      },
      "outputs": [
        {
          "output_type": "stream",
          "name": "stdout",
          "text": [
            "5.62067480970831\n"
          ]
        }
      ],
      "source": [
        "print(mean_squared_error(y_test_tf, y_pred))"
      ]
    },
    {
      "cell_type": "markdown",
      "metadata": {
        "id": "lna1GPEhZPEy"
      },
      "source": [
        "#Random Forest"
      ]
    },
    {
      "cell_type": "code",
      "execution_count": 113,
      "metadata": {
        "colab": {
          "base_uri": "https://localhost:8080/"
        },
        "id": "hEu-NfQqcyws",
        "outputId": "870261de-f791-4447-bfb7-44cfe73ba46a"
      },
      "outputs": [
        {
          "output_type": "stream",
          "name": "stdout",
          "text": [
            "Fitting 5 folds for each of 10 candidates, totalling 50 fits\n",
            "Best Parameters:  {'n_estimators': 150, 'min_samples_split': 13, 'min_samples_leaf': 10, 'max_depth': 30}\n",
            "Best Score:  -7.670597715170099\n"
          ]
        }
      ],
      "source": [
        "from sklearn.ensemble import RandomForestRegressor\n",
        "from sklearn.model_selection import train_test_split, RandomizedSearchCV\n",
        "from scipy.stats import randint\n",
        "import numpy as np\n",
        "\n",
        "X_train_rf, X_test_rf, y_train_rf, y_test_rf = train_test_split(X_tf, y, test_size=0.2, random_state=42)\n",
        "\n",
        "rf_reg_2 = RandomForestRegressor(random_state=42)\n",
        "\n",
        "param_dist = {\n",
        "    'n_estimators': [50, 100, 150, 200, 250, 300, 350, 400],\n",
        "    'max_depth': [5, 10, 15, 20, 25, 30, 35, 40],\n",
        "    'min_samples_split': [3, 5, 7, 9, 11, 13],\n",
        "    'min_samples_leaf': [10, 15, 20, 25, 30, 35],\n",
        "}\n",
        "\n",
        "random_search = RandomizedSearchCV(rf_reg_2, param_distributions=param_dist,\n",
        "                                   n_iter=10, cv=5,\n",
        "                                   scoring='neg_mean_squared_error',\n",
        "                                   random_state=42, n_jobs=-1, verbose=2)\n",
        "\n",
        "random_search.fit(X_train_rf, y_train_rf)\n",
        "\n",
        "print(\"Best Parameters: \", random_search.best_params_)\n",
        "print(\"Best Score: \", random_search.best_score_)\n"
      ]
    },
    {
      "cell_type": "code",
      "execution_count": 114,
      "metadata": {
        "colab": {
          "base_uri": "https://localhost:8080/"
        },
        "id": "iaNiQCHapyYs",
        "outputId": "a5cf0c7e-42e0-4cf1-fac0-ee8b27799632"
      },
      "outputs": [
        {
          "output_type": "stream",
          "name": "stdout",
          "text": [
            "RMSE:  2.484873804869578\n"
          ]
        }
      ],
      "source": [
        "rf_reg_randoms = random_search.best_estimator_\n",
        "y_pred = rf_reg_randoms.predict(X_test_rf)\n",
        "rmse_rf = np.sqrt(mean_squared_error(y_test_rf, y_pred))\n",
        "print(\"RMSE: \", rmse_rf)"
      ]
    },
    {
      "cell_type": "code",
      "execution_count": 115,
      "metadata": {
        "id": "SZmBcFGaL5g6"
      },
      "outputs": [],
      "source": [
        "create_submission(rf_reg_randoms, test_tf, test[\"id\"])"
      ]
    },
    {
      "cell_type": "markdown",
      "metadata": {
        "id": "Js401GJsY08q"
      },
      "source": [
        "# Red Neuronal"
      ]
    },
    {
      "cell_type": "code",
      "execution_count": 116,
      "metadata": {
        "colab": {
          "base_uri": "https://localhost:8080/"
        },
        "collapsed": true,
        "id": "B1KG6U7nxtOH",
        "outputId": "83b51f9c-b82b-4694-9bcb-5539405e8575"
      },
      "outputs": [
        {
          "output_type": "stream",
          "name": "stdout",
          "text": [
            "Requirement already satisfied: scikeras in /usr/local/lib/python3.10/dist-packages (0.13.0)\n",
            "Requirement already satisfied: keras>=3.2.0 in /usr/local/lib/python3.10/dist-packages (from scikeras) (3.5.0)\n",
            "Requirement already satisfied: scikit-learn>=1.4.2 in /usr/local/lib/python3.10/dist-packages (from scikeras) (1.5.2)\n",
            "Requirement already satisfied: absl-py in /usr/local/lib/python3.10/dist-packages (from keras>=3.2.0->scikeras) (1.4.0)\n",
            "Requirement already satisfied: numpy in /usr/local/lib/python3.10/dist-packages (from keras>=3.2.0->scikeras) (1.26.4)\n",
            "Requirement already satisfied: rich in /usr/local/lib/python3.10/dist-packages (from keras>=3.2.0->scikeras) (13.9.4)\n",
            "Requirement already satisfied: namex in /usr/local/lib/python3.10/dist-packages (from keras>=3.2.0->scikeras) (0.0.8)\n",
            "Requirement already satisfied: h5py in /usr/local/lib/python3.10/dist-packages (from keras>=3.2.0->scikeras) (3.12.1)\n",
            "Requirement already satisfied: optree in /usr/local/lib/python3.10/dist-packages (from keras>=3.2.0->scikeras) (0.13.1)\n",
            "Requirement already satisfied: ml-dtypes in /usr/local/lib/python3.10/dist-packages (from keras>=3.2.0->scikeras) (0.4.1)\n",
            "Requirement already satisfied: packaging in /usr/local/lib/python3.10/dist-packages (from keras>=3.2.0->scikeras) (24.2)\n",
            "Requirement already satisfied: scipy>=1.6.0 in /usr/local/lib/python3.10/dist-packages (from scikit-learn>=1.4.2->scikeras) (1.13.1)\n",
            "Requirement already satisfied: joblib>=1.2.0 in /usr/local/lib/python3.10/dist-packages (from scikit-learn>=1.4.2->scikeras) (1.4.2)\n",
            "Requirement already satisfied: threadpoolctl>=3.1.0 in /usr/local/lib/python3.10/dist-packages (from scikit-learn>=1.4.2->scikeras) (3.5.0)\n",
            "Requirement already satisfied: typing-extensions>=4.5.0 in /usr/local/lib/python3.10/dist-packages (from optree->keras>=3.2.0->scikeras) (4.12.2)\n",
            "Requirement already satisfied: markdown-it-py>=2.2.0 in /usr/local/lib/python3.10/dist-packages (from rich->keras>=3.2.0->scikeras) (3.0.0)\n",
            "Requirement already satisfied: pygments<3.0.0,>=2.13.0 in /usr/local/lib/python3.10/dist-packages (from rich->keras>=3.2.0->scikeras) (2.18.0)\n",
            "Requirement already satisfied: mdurl~=0.1 in /usr/local/lib/python3.10/dist-packages (from markdown-it-py>=2.2.0->rich->keras>=3.2.0->scikeras) (0.1.2)\n",
            "Requirement already satisfied: keras-tuner in /usr/local/lib/python3.10/dist-packages (1.4.7)\n",
            "Requirement already satisfied: keras in /usr/local/lib/python3.10/dist-packages (from keras-tuner) (3.5.0)\n",
            "Requirement already satisfied: packaging in /usr/local/lib/python3.10/dist-packages (from keras-tuner) (24.2)\n",
            "Requirement already satisfied: requests in /usr/local/lib/python3.10/dist-packages (from keras-tuner) (2.32.3)\n",
            "Requirement already satisfied: kt-legacy in /usr/local/lib/python3.10/dist-packages (from keras-tuner) (1.0.5)\n",
            "Requirement already satisfied: absl-py in /usr/local/lib/python3.10/dist-packages (from keras->keras-tuner) (1.4.0)\n",
            "Requirement already satisfied: numpy in /usr/local/lib/python3.10/dist-packages (from keras->keras-tuner) (1.26.4)\n",
            "Requirement already satisfied: rich in /usr/local/lib/python3.10/dist-packages (from keras->keras-tuner) (13.9.4)\n",
            "Requirement already satisfied: namex in /usr/local/lib/python3.10/dist-packages (from keras->keras-tuner) (0.0.8)\n",
            "Requirement already satisfied: h5py in /usr/local/lib/python3.10/dist-packages (from keras->keras-tuner) (3.12.1)\n",
            "Requirement already satisfied: optree in /usr/local/lib/python3.10/dist-packages (from keras->keras-tuner) (0.13.1)\n",
            "Requirement already satisfied: ml-dtypes in /usr/local/lib/python3.10/dist-packages (from keras->keras-tuner) (0.4.1)\n",
            "Requirement already satisfied: charset-normalizer<4,>=2 in /usr/local/lib/python3.10/dist-packages (from requests->keras-tuner) (3.4.0)\n",
            "Requirement already satisfied: idna<4,>=2.5 in /usr/local/lib/python3.10/dist-packages (from requests->keras-tuner) (3.10)\n",
            "Requirement already satisfied: urllib3<3,>=1.21.1 in /usr/local/lib/python3.10/dist-packages (from requests->keras-tuner) (2.2.3)\n",
            "Requirement already satisfied: certifi>=2017.4.17 in /usr/local/lib/python3.10/dist-packages (from requests->keras-tuner) (2024.8.30)\n",
            "Requirement already satisfied: typing-extensions>=4.5.0 in /usr/local/lib/python3.10/dist-packages (from optree->keras->keras-tuner) (4.12.2)\n",
            "Requirement already satisfied: markdown-it-py>=2.2.0 in /usr/local/lib/python3.10/dist-packages (from rich->keras->keras-tuner) (3.0.0)\n",
            "Requirement already satisfied: pygments<3.0.0,>=2.13.0 in /usr/local/lib/python3.10/dist-packages (from rich->keras->keras-tuner) (2.18.0)\n",
            "Requirement already satisfied: mdurl~=0.1 in /usr/local/lib/python3.10/dist-packages (from markdown-it-py>=2.2.0->rich->keras->keras-tuner) (0.1.2)\n"
          ]
        }
      ],
      "source": [
        "# Red neuronal\n",
        "!pip install scikeras\n",
        "from sklearn.neural_network import MLPRegressor\n",
        "!pip install keras-tuner --upgrade\n",
        "import tensorflow as tf\n",
        "from tensorflow import keras\n",
        "import keras_tuner as kt\n",
        "from tensorflow.keras.layers import Input\n",
        "from scikeras.wrappers import KerasRegressor\n",
        "np.random.seed(1)\n",
        "tf.random.set_seed(1)"
      ]
    },
    {
      "cell_type": "code",
      "execution_count": 117,
      "metadata": {
        "id": "HMbEfG2H5cLs"
      },
      "outputs": [],
      "source": [
        "#hacer split\n",
        "#X_train, X_test, y_train, y_test = train_test_split(train.drop(columns={\"storypoint\"}), train[\"storypoint\"], test_size=0.2, random_state=42)\n",
        "X_train, X_test, y_train, y_test = train_test_split(X_tf, y, test_size=0.2, random_state=42)"
      ]
    },
    {
      "cell_type": "code",
      "execution_count": 118,
      "metadata": {
        "colab": {
          "base_uri": "https://localhost:8080/"
        },
        "id": "AvAKPi1vhnsS",
        "outputId": "cf34e172-1ddf-4003-e352-dcaa4f7721d9"
      },
      "outputs": [
        {
          "output_type": "execute_result",
          "data": {
            "text/plain": [
              "<6320x2000 sparse matrix of type '<class 'numpy.float64'>'\n",
              "\twith 69710 stored elements in Compressed Sparse Row format>"
            ]
          },
          "metadata": {},
          "execution_count": 118
        }
      ],
      "source": [
        "X_train"
      ]
    },
    {
      "cell_type": "code",
      "execution_count": 119,
      "metadata": {
        "id": "mVrK8rKhWr57"
      },
      "outputs": [],
      "source": [
        "def armar_modelo():\n",
        "  modelo = keras.Sequential([\n",
        "    Input(shape=(X_train.shape[1],)),\n",
        "    keras.layers.Dense(64, activation='relu', kernel_regularizer=keras.regularizers.l2(0.01)),\n",
        "    keras.layers.Dropout(0.3),\n",
        "    keras.layers.Dense(32, activation='relu', kernel_regularizer=keras.regularizers.l2(0.01)),\n",
        "    keras.layers.Dropout(0.3),\n",
        "    keras.layers.Dense(1)\n",
        "])\n",
        "  modelo.compile(\n",
        "  optimizer= tf.keras.optimizers.Adam(learning_rate=0.0002), #keras.optimizers.SGD(learning_rate=0.0002),\n",
        "  loss='mse',\n",
        "  metrics=['mae'],\n",
        ")\n",
        "  return modelo\n"
      ]
    },
    {
      "cell_type": "code",
      "execution_count": 120,
      "metadata": {
        "id": "9NFydHhzJaGb"
      },
      "outputs": [],
      "source": [
        "modelo = armar_modelo()"
      ]
    },
    {
      "cell_type": "code",
      "execution_count": 121,
      "metadata": {
        "colab": {
          "base_uri": "https://localhost:8080/"
        },
        "id": "pqnQFT_j_NJu",
        "outputId": "0b02e467-658f-402b-e29f-78d53ee268c4"
      },
      "outputs": [
        {
          "output_type": "stream",
          "name": "stdout",
          "text": [
            "Epoch 1/100\n",
            "\u001b[1m158/158\u001b[0m \u001b[32m━━━━━━━━━━━━━━━━━━━━\u001b[0m\u001b[37m\u001b[0m \u001b[1m7s\u001b[0m 16ms/step - loss: 25.4412 - mae: 3.8418 - val_loss: 18.8619 - val_mae: 3.0909\n",
            "Epoch 2/100\n",
            "\u001b[1m158/158\u001b[0m \u001b[32m━━━━━━━━━━━━━━━━━━━━\u001b[0m\u001b[37m\u001b[0m \u001b[1m5s\u001b[0m 13ms/step - loss: 17.6026 - mae: 2.8526 - val_loss: 9.7716 - val_mae: 1.9349\n",
            "Epoch 3/100\n",
            "\u001b[1m158/158\u001b[0m \u001b[32m━━━━━━━━━━━━━━━━━━━━\u001b[0m\u001b[37m\u001b[0m \u001b[1m2s\u001b[0m 13ms/step - loss: 10.1404 - mae: 2.0513 - val_loss: 8.3212 - val_mae: 1.8926\n",
            "Epoch 4/100\n",
            "\u001b[1m158/158\u001b[0m \u001b[32m━━━━━━━━━━━━━━━━━━━━\u001b[0m\u001b[37m\u001b[0m \u001b[1m3s\u001b[0m 18ms/step - loss: 9.2204 - mae: 2.0362 - val_loss: 8.0781 - val_mae: 1.8742\n",
            "Epoch 5/100\n",
            "\u001b[1m158/158\u001b[0m \u001b[32m━━━━━━━━━━━━━━━━━━━━\u001b[0m\u001b[37m\u001b[0m \u001b[1m3s\u001b[0m 17ms/step - loss: 9.1642 - mae: 2.0287 - val_loss: 7.9131 - val_mae: 1.8463\n",
            "Epoch 6/100\n",
            "\u001b[1m158/158\u001b[0m \u001b[32m━━━━━━━━━━━━━━━━━━━━\u001b[0m\u001b[37m\u001b[0m \u001b[1m4s\u001b[0m 11ms/step - loss: 8.5766 - mae: 1.9811 - val_loss: 7.7748 - val_mae: 1.8287\n",
            "Epoch 7/100\n",
            "\u001b[1m158/158\u001b[0m \u001b[32m━━━━━━━━━━━━━━━━━━━━\u001b[0m\u001b[37m\u001b[0m \u001b[1m2s\u001b[0m 12ms/step - loss: 8.5139 - mae: 1.9439 - val_loss: 7.6684 - val_mae: 1.8025\n",
            "Epoch 8/100\n",
            "\u001b[1m158/158\u001b[0m \u001b[32m━━━━━━━━━━━━━━━━━━━━\u001b[0m\u001b[37m\u001b[0m \u001b[1m2s\u001b[0m 13ms/step - loss: 8.0339 - mae: 1.9060 - val_loss: 7.5848 - val_mae: 1.7804\n",
            "Epoch 9/100\n",
            "\u001b[1m158/158\u001b[0m \u001b[32m━━━━━━━━━━━━━━━━━━━━\u001b[0m\u001b[37m\u001b[0m \u001b[1m2s\u001b[0m 11ms/step - loss: 8.0852 - mae: 1.8914 - val_loss: 7.5201 - val_mae: 1.7725\n",
            "Epoch 10/100\n",
            "\u001b[1m158/158\u001b[0m \u001b[32m━━━━━━━━━━━━━━━━━━━━\u001b[0m\u001b[37m\u001b[0m \u001b[1m3s\u001b[0m 14ms/step - loss: 7.9877 - mae: 1.8733 - val_loss: 7.4623 - val_mae: 1.7640\n",
            "Epoch 11/100\n",
            "\u001b[1m158/158\u001b[0m \u001b[32m━━━━━━━━━━━━━━━━━━━━\u001b[0m\u001b[37m\u001b[0m \u001b[1m3s\u001b[0m 19ms/step - loss: 7.7957 - mae: 1.8520 - val_loss: 7.4261 - val_mae: 1.7434\n",
            "Epoch 12/100\n",
            "\u001b[1m158/158\u001b[0m \u001b[32m━━━━━━━━━━━━━━━━━━━━\u001b[0m\u001b[37m\u001b[0m \u001b[1m3s\u001b[0m 16ms/step - loss: 7.7410 - mae: 1.8196 - val_loss: 7.3922 - val_mae: 1.7428\n",
            "Epoch 13/100\n",
            "\u001b[1m158/158\u001b[0m \u001b[32m━━━━━━━━━━━━━━━━━━━━\u001b[0m\u001b[37m\u001b[0m \u001b[1m4s\u001b[0m 11ms/step - loss: 7.5724 - mae: 1.8136 - val_loss: 7.3773 - val_mae: 1.7273\n",
            "Epoch 14/100\n",
            "\u001b[1m158/158\u001b[0m \u001b[32m━━━━━━━━━━━━━━━━━━━━\u001b[0m\u001b[37m\u001b[0m \u001b[1m2s\u001b[0m 10ms/step - loss: 7.4801 - mae: 1.7951 - val_loss: 7.3605 - val_mae: 1.7214\n",
            "Epoch 15/100\n",
            "\u001b[1m158/158\u001b[0m \u001b[32m━━━━━━━━━━━━━━━━━━━━\u001b[0m\u001b[37m\u001b[0m \u001b[1m2s\u001b[0m 11ms/step - loss: 7.3045 - mae: 1.7560 - val_loss: 7.3581 - val_mae: 1.7162\n",
            "Epoch 16/100\n",
            "\u001b[1m158/158\u001b[0m \u001b[32m━━━━━━━━━━━━━━━━━━━━\u001b[0m\u001b[37m\u001b[0m \u001b[1m2s\u001b[0m 9ms/step - loss: 7.1874 - mae: 1.7739 - val_loss: 7.3520 - val_mae: 1.7171\n",
            "Epoch 17/100\n",
            "\u001b[1m158/158\u001b[0m \u001b[32m━━━━━━━━━━━━━━━━━━━━\u001b[0m\u001b[37m\u001b[0m \u001b[1m1s\u001b[0m 6ms/step - loss: 7.3681 - mae: 1.7604 - val_loss: 7.3611 - val_mae: 1.7135\n",
            "Epoch 18/100\n",
            "\u001b[1m158/158\u001b[0m \u001b[32m━━━━━━━━━━━━━━━━━━━━\u001b[0m\u001b[37m\u001b[0m \u001b[1m2s\u001b[0m 10ms/step - loss: 7.1393 - mae: 1.7527 - val_loss: 7.3650 - val_mae: 1.7085\n",
            "Epoch 19/100\n",
            "\u001b[1m158/158\u001b[0m \u001b[32m━━━━━━━━━━━━━━━━━━━━\u001b[0m\u001b[37m\u001b[0m \u001b[1m2s\u001b[0m 11ms/step - loss: 7.1809 - mae: 1.7388 - val_loss: 7.3688 - val_mae: 1.7136\n",
            "Epoch 20/100\n",
            "\u001b[1m158/158\u001b[0m \u001b[32m━━━━━━━━━━━━━━━━━━━━\u001b[0m\u001b[37m\u001b[0m \u001b[1m2s\u001b[0m 10ms/step - loss: 6.8970 - mae: 1.7239 - val_loss: 7.3843 - val_mae: 1.7107\n",
            "Epoch 21/100\n",
            "\u001b[1m158/158\u001b[0m \u001b[32m━━━━━━━━━━━━━━━━━━━━\u001b[0m\u001b[37m\u001b[0m \u001b[1m2s\u001b[0m 6ms/step - loss: 6.9366 - mae: 1.7042 - val_loss: 7.3968 - val_mae: 1.7135\n",
            "Epoch 22/100\n",
            "\u001b[1m158/158\u001b[0m \u001b[32m━━━━━━━━━━━━━━━━━━━━\u001b[0m\u001b[37m\u001b[0m \u001b[1m1s\u001b[0m 6ms/step - loss: 6.8513 - mae: 1.6991 - val_loss: 7.4190 - val_mae: 1.7153\n",
            "Epoch 23/100\n",
            "\u001b[1m158/158\u001b[0m \u001b[32m━━━━━━━━━━━━━━━━━━━━\u001b[0m\u001b[37m\u001b[0m \u001b[1m1s\u001b[0m 6ms/step - loss: 6.7949 - mae: 1.6808 - val_loss: 7.4303 - val_mae: 1.7156\n",
            "Epoch 24/100\n",
            "\u001b[1m158/158\u001b[0m \u001b[32m━━━━━━━━━━━━━━━━━━━━\u001b[0m\u001b[37m\u001b[0m \u001b[1m1s\u001b[0m 5ms/step - loss: 6.6904 - mae: 1.6741 - val_loss: 7.4510 - val_mae: 1.7133\n",
            "Epoch 25/100\n",
            "\u001b[1m158/158\u001b[0m \u001b[32m━━━━━━━━━━━━━━━━━━━━\u001b[0m\u001b[37m\u001b[0m \u001b[1m1s\u001b[0m 6ms/step - loss: 6.7768 - mae: 1.6908 - val_loss: 7.4638 - val_mae: 1.7160\n",
            "Epoch 26/100\n",
            "\u001b[1m158/158\u001b[0m \u001b[32m━━━━━━━━━━━━━━━━━━━━\u001b[0m\u001b[37m\u001b[0m \u001b[1m1s\u001b[0m 6ms/step - loss: 6.6153 - mae: 1.6637 - val_loss: 7.4776 - val_mae: 1.7155\n"
          ]
        },
        {
          "output_type": "execute_result",
          "data": {
            "text/plain": [
              "<keras.src.callbacks.history.History at 0x78cc624da470>"
            ]
          },
          "metadata": {},
          "execution_count": 121
        }
      ],
      "source": [
        "# Fit the model with a validation split and early stopping\n",
        "early_stopping = keras.callbacks.EarlyStopping(monitor=\"val_loss\", patience=10, restore_best_weights=True)\n",
        "modelo.fit(X_train, y_train, epochs=100, batch_size=32, validation_split=0.2, callbacks=[early_stopping], verbose=True)"
      ]
    },
    {
      "cell_type": "code",
      "execution_count": 122,
      "metadata": {
        "colab": {
          "base_uri": "https://localhost:8080/"
        },
        "id": "jTwTrAO4_Ssb",
        "outputId": "169cf87c-1ca1-4d12-bee9-02eff03e0469"
      },
      "outputs": [
        {
          "output_type": "stream",
          "name": "stdout",
          "text": [
            "\u001b[1m50/50\u001b[0m \u001b[32m━━━━━━━━━━━━━━━━━━━━\u001b[0m\u001b[37m\u001b[0m \u001b[1m0s\u001b[0m 5ms/step\n",
            "RMSE:  2.3819632491670424\n"
          ]
        }
      ],
      "source": [
        "y_pred = modelo.predict(X_test)\n",
        "rmse_nn = np.sqrt(mean_squared_error(y_test, y_pred))\n",
        "print(\"RMSE: \", rmse_nn)"
      ]
    },
    {
      "cell_type": "code",
      "execution_count": 123,
      "metadata": {
        "colab": {
          "base_uri": "https://localhost:8080/"
        },
        "id": "5dZtCfHPlOjt",
        "outputId": "cdbd69c7-5e71-4a9f-b465-c108e2ecb71c"
      },
      "outputs": [
        {
          "output_type": "stream",
          "name": "stdout",
          "text": [
            "5.673748920382414\n"
          ]
        }
      ],
      "source": [
        "print(mean_squared_error(y_test, y_pred))"
      ]
    },
    {
      "cell_type": "code",
      "execution_count": 124,
      "metadata": {
        "id": "oB7oGn6fRzHk"
      },
      "outputs": [],
      "source": [
        "def submission_red(modelo, testeo, id):\n",
        "    predictions = modelo.predict(testeo) # predicciones\n",
        "    predictions = predictions.flatten()\n",
        "    submission_df = pd.DataFrame({\n",
        "        'id': id,\n",
        "        'storypoint': predictions\n",
        "    })\n",
        "    submission_df.to_csv(\"red.csv\", index=False)\n"
      ]
    },
    {
      "cell_type": "code",
      "execution_count": 125,
      "metadata": {
        "colab": {
          "base_uri": "https://localhost:8080/"
        },
        "id": "G5Yyj8tIA2PL",
        "outputId": "b4970ded-0015-4213-c16c-96b41de9c615"
      },
      "outputs": [
        {
          "output_type": "stream",
          "name": "stdout",
          "text": [
            "\u001b[1m62/62\u001b[0m \u001b[32m━━━━━━━━━━━━━━━━━━━━\u001b[0m\u001b[37m\u001b[0m \u001b[1m0s\u001b[0m 6ms/step\n"
          ]
        }
      ],
      "source": [
        "submission_red(modelo, test_tf, test[\"id\"])"
      ]
    },
    {
      "cell_type": "markdown",
      "metadata": {
        "id": "wZjqD3UoY0gi"
      },
      "source": [
        "# Ensamble"
      ]
    },
    {
      "cell_type": "code",
      "execution_count": 126,
      "metadata": {
        "id": "dtbgWHXmZ7HF"
      },
      "outputs": [],
      "source": [
        "from sklearn.ensemble import VotingRegressor"
      ]
    },
    {
      "cell_type": "code",
      "execution_count": 127,
      "metadata": {
        "id": "57QW_XhSIw7X"
      },
      "outputs": [],
      "source": [
        "# Separamos en train y test\n",
        "X_train, X_test, y_train, y_test = train_test_split(X_tf, train[\"storypoint\"], test_size=0.2, random_state=42)"
      ]
    },
    {
      "cell_type": "code",
      "execution_count": 128,
      "metadata": {
        "id": "0cJdedYHFHSk"
      },
      "outputs": [],
      "source": [
        "# Utilizamos los modelos anteriores\n",
        "modelos_elegidos = [('modelo_xgb', xg_reg), ('modelo_randomforest', rf_reg_randoms), ('modelo_Red', KerasRegressor(model=armar_modelo))]"
      ]
    },
    {
      "cell_type": "code",
      "execution_count": 129,
      "metadata": {
        "colab": {
          "base_uri": "https://localhost:8080/"
        },
        "id": "tnffZ-dWbkp_",
        "outputId": "186d1dd7-0107-4d27-ecc0-7b4d8f1e9def"
      },
      "outputs": [
        {
          "output_type": "stream",
          "name": "stdout",
          "text": [
            "[Voting] ............... (1 of 3) Processing modelo_xgb, total= 1.3min\n",
            "[Voting] ...... (2 of 3) Processing modelo_randomforest, total=  30.8s\n",
            "\u001b[1m198/198\u001b[0m \u001b[32m━━━━━━━━━━━━━━━━━━━━\u001b[0m\u001b[37m\u001b[0m \u001b[1m4s\u001b[0m 5ms/step - loss: 26.2506 - mae: 3.8207\n",
            "[Voting] ............... (3 of 3) Processing modelo_Red, total=   4.3s\n",
            "\u001b[1m50/50\u001b[0m \u001b[32m━━━━━━━━━━━━━━━━━━━━\u001b[0m\u001b[37m\u001b[0m \u001b[1m0s\u001b[0m 4ms/step\n"
          ]
        }
      ],
      "source": [
        "# Armamos el ensamble\n",
        "VotingReg = VotingRegressor(estimators=modelos_elegidos, verbose = True)\n",
        "\n",
        "# Lo entrenamos\n",
        "VotingReg.fit(X_train, y_train)\n",
        "\n",
        "# Predecimos con el Ensamble\n",
        "y_pred = VotingReg.predict(X_test)"
      ]
    },
    {
      "cell_type": "code",
      "execution_count": 130,
      "metadata": {
        "colab": {
          "base_uri": "https://localhost:8080/"
        },
        "id": "olP8_jcIF7Yj",
        "outputId": "20ad2a83-4291-4bd3-e032-c36b66feaee9"
      },
      "outputs": [
        {
          "output_type": "stream",
          "name": "stdout",
          "text": [
            "RMSE:  2.626379859142283\n"
          ]
        }
      ],
      "source": [
        "# Calculamos el RMSE\n",
        "rmse_ensamble = np.sqrt(mean_squared_error(y_test, y_pred))\n",
        "print(\"RMSE: \", rmse_ensamble)"
      ]
    },
    {
      "cell_type": "code",
      "execution_count": 131,
      "metadata": {
        "colab": {
          "base_uri": "https://localhost:8080/"
        },
        "id": "JXvsI9wIbVUI",
        "outputId": "a3024b56-da68-4c75-85b3-3a9c932d72c5"
      },
      "outputs": [
        {
          "output_type": "stream",
          "name": "stdout",
          "text": [
            "6.897871164508239\n"
          ]
        }
      ],
      "source": [
        "print(mean_squared_error(y_test, y_pred))"
      ]
    },
    {
      "cell_type": "code",
      "execution_count": 132,
      "metadata": {
        "colab": {
          "base_uri": "https://localhost:8080/"
        },
        "id": "51QPNDQLGDF7",
        "outputId": "ebb244a1-568e-40b4-ee05-80a283b81dfb"
      },
      "outputs": [
        {
          "output_type": "stream",
          "name": "stdout",
          "text": [
            "\u001b[1m62/62\u001b[0m \u001b[32m━━━━━━━━━━━━━━━━━━━━\u001b[0m\u001b[37m\u001b[0m \u001b[1m0s\u001b[0m 3ms/step\n"
          ]
        }
      ],
      "source": [
        "create_submission(VotingReg, test_tf, test[\"id\"])"
      ]
    }
  ],
  "metadata": {
    "colab": {
      "toc_visible": true,
      "provenance": [],
      "include_colab_link": true
    },
    "kernelspec": {
      "display_name": "Python 3",
      "name": "python3"
    },
    "language_info": {
      "name": "python"
    }
  },
  "nbformat": 4,
  "nbformat_minor": 0
}